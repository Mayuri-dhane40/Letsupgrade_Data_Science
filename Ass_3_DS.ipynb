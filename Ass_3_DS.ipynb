{
  "nbformat": 4,
  "nbformat_minor": 0,
  "metadata": {
    "colab": {
      "name": "Ass 3 DS.ipynb",
      "provenance": [],
      "collapsed_sections": [],
      "authorship_tag": "ABX9TyOINtwZZt6YodbVPlvR/gVu",
      "include_colab_link": true
    },
    "kernelspec": {
      "name": "python3",
      "display_name": "Python 3"
    }
  },
  "cells": [
    {
      "cell_type": "markdown",
      "metadata": {
        "id": "view-in-github",
        "colab_type": "text"
      },
      "source": [
        "<a href=\"https://colab.research.google.com/github/Mayuri-dhane40/Letsupgrade_Data_Science/blob/main/Ass_3_DS.ipynb\" target=\"_parent\"><img src=\"https://colab.research.google.com/assets/colab-badge.svg\" alt=\"Open In Colab\"/></a>"
      ]
    },
    {
      "cell_type": "markdown",
      "metadata": {
        "id": "d9wB7QTMVCEM"
      },
      "source": [
        "Assignment Day 3 Data Science"
      ]
    },
    {
      "cell_type": "markdown",
      "metadata": {
        "id": "uhfaVxuxVGD2"
      },
      "source": [
        "Q.1"
      ]
    },
    {
      "cell_type": "code",
      "metadata": {
        "id": "mALCcJIMVFPE"
      },
      "source": [
        "import numpy as np"
      ],
      "execution_count": null,
      "outputs": []
    },
    {
      "cell_type": "code",
      "metadata": {
        "id": "wWK13pFbVqmi",
        "outputId": "18e4a8a9-b763-481a-eb78-296329c37828",
        "colab": {
          "base_uri": "https://localhost:8080/"
        }
      },
      "source": [
        "np.arange(2,50,3)"
      ],
      "execution_count": null,
      "outputs": [
        {
          "output_type": "execute_result",
          "data": {
            "text/plain": [
              "array([ 2,  5,  8, 11, 14, 17, 20, 23, 26, 29, 32, 35, 38, 41, 44, 47])"
            ]
          },
          "metadata": {
            "tags": []
          },
          "execution_count": 3
        }
      ]
    },
    {
      "cell_type": "markdown",
      "metadata": {
        "id": "Ho3Jx8aBZlZf"
      },
      "source": [
        "Q.2"
      ]
    },
    {
      "cell_type": "code",
      "metadata": {
        "id": "NzBFiLrKZmdI",
        "outputId": "c8cfca0e-a9c2-401c-c656-3db6bb8b4553",
        "colab": {
          "base_uri": "https://localhost:8080/"
        }
      },
      "source": [
        "import numpy as np\n",
        " \n",
        "list1=[]\n",
        "list2=[]\n",
        "n=5\n",
        "for i in range(0,n):\n",
        "    ele=int(input(\"list1:\"))\n",
        "    list1.append(ele)\n",
        "arr1=np.array(list1)  \n",
        "for i in range(0,n):\n",
        "    ele=int(input(\"list2:\"))\n",
        "    list2.append(ele)\n",
        "arr2=np.array(list2)\n",
        " \n",
        "arr=np.concatenate((arr1,arr2)) \n",
        "print(arr)\n",
        "a=np.sort(arr)\n",
        "print(\"sorting array\",a)"
      ],
      "execution_count": null,
      "outputs": [
        {
          "output_type": "stream",
          "text": [
            "list1:32\n",
            "list1:12\n",
            "list1:53\n",
            "list1:98\n",
            "list1:10\n",
            "list2:46\n",
            "list2:33\n",
            "list2:34\n",
            "list2:50\n",
            "list2:22\n",
            "[32 12 53 98 10 46 33 34 50 22]\n",
            "sorting array [10 12 22 32 33 34 46 50 53 98]\n"
          ],
          "name": "stdout"
        }
      ]
    },
    {
      "cell_type": "markdown",
      "metadata": {
        "id": "JMKBCs51fLeE"
      },
      "source": [
        "Q.3"
      ]
    },
    {
      "cell_type": "code",
      "metadata": {
        "id": "ZNDq2YGBfN4L",
        "outputId": "de573e8b-4f30-40b0-b60e-252e47e69a7c",
        "colab": {
          "base_uri": "https://localhost:8080/"
        }
      },
      "source": [
        "import numpy as np\n",
        "a1d = np.arange(3)\n",
        "print(\"First array\",a1d)\n",
        "a2d = np.arange(12).reshape((3, 4))\n",
        "print(\"Second array\",a2d)\n",
        "a3d = np.arange(24).reshape((2, 3, 4))\n",
        "print(\"Third array\",a3d)\n",
        "print(\"Dimensions of numpy array\") \n",
        "print(a1d.ndim)\n",
        "print(a2d.ndim)\n",
        "print(a3d.ndim)\n",
        "print(\"Size of numpy array\")\n",
        "print(a1d.shape)\n",
        "print(a2d.shape)\n",
        "print(a3d.shape)"
      ],
      "execution_count": null,
      "outputs": [
        {
          "output_type": "stream",
          "text": [
            "First array [0 1 2]\n",
            "Second array [[ 0  1  2  3]\n",
            " [ 4  5  6  7]\n",
            " [ 8  9 10 11]]\n",
            "Third array [[[ 0  1  2  3]\n",
            "  [ 4  5  6  7]\n",
            "  [ 8  9 10 11]]\n",
            "\n",
            " [[12 13 14 15]\n",
            "  [16 17 18 19]\n",
            "  [20 21 22 23]]]\n",
            "Dimensions of numpy array\n",
            "1\n",
            "2\n",
            "3\n",
            "Size of numpy array\n",
            "(3,)\n",
            "(3, 4)\n",
            "(2, 3, 4)\n"
          ],
          "name": "stdout"
        }
      ]
    },
    {
      "cell_type": "markdown",
      "metadata": {
        "id": "bgtbanjthmCW"
      },
      "source": [
        "Q.4"
      ]
    },
    {
      "cell_type": "code",
      "metadata": {
        "id": "HALPr_XIhoFT",
        "outputId": "403d5c2a-a91a-4c1c-ef4c-5e1eecceb771",
        "colab": {
          "base_uri": "https://localhost:8080/"
        }
      },
      "source": [
        " \n",
        "import numpy as np\n",
        " \n",
        "a=np.array([10,20,30,40,50,60,70])\n",
        "print(a.shape) \n",
        "b=a[np.newaxis, :]\n",
        "print(b.shape) \n",
        "row_vector = a[np.newaxis, :]\n",
        "print(row_vector.shape) \n",
        "col_vector = a[:, np.newaxis]\n",
        "print(col_vector.shape) \n",
        "d= np.expand_dims(a, axis=1)\n",
        "print(d.shape) \n",
        "print(\"2d array\",b)"
      ],
      "execution_count": null,
      "outputs": [
        {
          "output_type": "stream",
          "text": [
            "(7,)\n",
            "(1, 7)\n",
            "(1, 7)\n",
            "(7, 1)\n",
            "(7, 1)\n",
            "2d array [[10 20 30 40 50 60 70]]\n"
          ],
          "name": "stdout"
        }
      ]
    },
    {
      "cell_type": "markdown",
      "metadata": {
        "id": "NHq-YePkvZky"
      },
      "source": [
        "Q.5"
      ]
    },
    {
      "cell_type": "code",
      "metadata": {
        "id": "QudVELkcvbSl",
        "outputId": "62ffcb0c-a6b8-4495-91c9-152e9f0b7548",
        "colab": {
          "base_uri": "https://localhost:8080/"
        }
      },
      "source": [
        "import numpy as np \n",
        " \n",
        "a = np.array([[1, 2], \n",
        " \n",
        "              [3, 4]])\n",
        "b = np.array([[5, 6], \n",
        " \n",
        "              [7, 8]]) \n",
        "print(\"Vertically stacking\",np.vstack((a,b))) \n",
        "print(\"Horizontally stacking\",np.hstack((a,b)))"
      ],
      "execution_count": null,
      "outputs": [
        {
          "output_type": "stream",
          "text": [
            "Vertically stacking [[1 2]\n",
            " [3 4]\n",
            " [5 6]\n",
            " [7 8]]\n",
            "Horizontally stacking [[1 2 5 6]\n",
            " [3 4 7 8]]\n"
          ],
          "name": "stdout"
        }
      ]
    },
    {
      "cell_type": "markdown",
      "metadata": {
        "id": "-NROZB2rxJ5M"
      },
      "source": [
        "Q.6"
      ]
    },
    {
      "cell_type": "code",
      "metadata": {
        "id": "H0SXqczdxMzz",
        "outputId": "86cb8183-38b3-4f02-ebf3-fce3e4f2931a",
        "colab": {
          "base_uri": "https://localhost:8080/"
        }
      },
      "source": [
        "number_list = np.array([1, 1, 2, 3, 4, 4, 1])\n",
        " \n",
        "(unique, counts) = np.unique(number_list, return_counts=True)\n",
        "frequencies = np.asarray((unique, counts)).T\n",
        " \n",
        "print(frequencies)"
      ],
      "execution_count": null,
      "outputs": [
        {
          "output_type": "stream",
          "text": [
            "[[1 3]\n",
            " [2 1]\n",
            " [3 1]\n",
            " [4 2]]\n"
          ],
          "name": "stdout"
        }
      ]
    }
  ]
}