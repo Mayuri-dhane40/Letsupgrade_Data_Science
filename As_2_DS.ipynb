{
  "nbformat": 4,
  "nbformat_minor": 0,
  "metadata": {
    "colab": {
      "name": "As 2 DS.ipynb",
      "provenance": [],
      "collapsed_sections": [],
      "authorship_tag": "ABX9TyNufsThGNoapEBocH13JD3A",
      "include_colab_link": true
    },
    "kernelspec": {
      "name": "python3",
      "display_name": "Python 3"
    }
  },
  "cells": [
    {
      "cell_type": "markdown",
      "metadata": {
        "id": "view-in-github",
        "colab_type": "text"
      },
      "source": [
        "<a href=\"https://colab.research.google.com/github/Mayuri-dhane40/Letsupgrade_Data_Science/blob/main/As_2_DS.ipynb\" target=\"_parent\"><img src=\"https://colab.research.google.com/assets/colab-badge.svg\" alt=\"Open In Colab\"/></a>"
      ]
    },
    {
      "cell_type": "markdown",
      "metadata": {
        "id": "nD_NNsTAucOG"
      },
      "source": [
        "Assignment Day 2 DATA SCIENCE"
      ]
    },
    {
      "cell_type": "markdown",
      "metadata": {
        "id": "3ACsKp5Duj-X"
      },
      "source": [
        "Q. 1"
      ]
    },
    {
      "cell_type": "code",
      "metadata": {
        "id": "ABmshCKUuk5K",
        "outputId": "f4d009c4-dc51-48b5-ea0d-32f06878a0e8",
        "colab": {
          "base_uri": "https://localhost:8080/"
        }
      },
      "source": [
        "list1=[]\n",
        "n=10\n",
        "for i in range(0,n):\n",
        "    num=int(input()) \n",
        "    if num%2==0:\n",
        "       list1.append(num)\n",
        "print(list1)"
      ],
      "execution_count": null,
      "outputs": [
        {
          "output_type": "stream",
          "text": [
            "584\n",
            "6458\n",
            "321\n",
            "503\n",
            "58497\n",
            "66\n",
            "220\n",
            "51\n",
            "80\n",
            "5592\n",
            "[584, 6458, 66, 220, 80, 5592]\n"
          ],
          "name": "stdout"
        }
      ]
    },
    {
      "cell_type": "markdown",
      "metadata": {
        "id": "92_ldgj8x9GG"
      },
      "source": [
        "Q. 2"
      ]
    },
    {
      "cell_type": "code",
      "metadata": {
        "id": "1mf9k3_zyBNz",
        "outputId": "a93065a9-7a4a-4f64-eaec-8c993d1a91cb",
        "colab": {
          "base_uri": "https://localhost:8080/"
        }
      },
      "source": [
        "num=[10,20,30,40,50]\n",
        "squares=[n**2 for n in num]\n",
        "print(squares)"
      ],
      "execution_count": null,
      "outputs": [
        {
          "output_type": "stream",
          "text": [
            "[100, 400, 900, 1600, 2500]\n"
          ],
          "name": "stdout"
        }
      ]
    },
    {
      "cell_type": "code",
      "metadata": {
        "id": "PqbTpb9cJd_P",
        "outputId": "0e597d8f-21ce-497e-bc7c-d5a0105d02e4",
        "colab": {
          "base_uri": "https://localhost:8080/"
        }
      },
      "source": [
        "a=[65, 75,85,95,100,102,66] \n",
        "even=[n for n in a if n%2==0 ]\n",
        "print(even)"
      ],
      "execution_count": null,
      "outputs": [
        {
          "output_type": "stream",
          "text": [
            "[100, 102, 66]\n"
          ],
          "name": "stdout"
        }
      ]
    },
    {
      "cell_type": "code",
      "metadata": {
        "id": "eKpTdjk1OiD7",
        "outputId": "bc5b2a23-c0fd-4e5b-e2ea-dd14e25248d7",
        "colab": {
          "base_uri": "https://localhost:8080/"
        }
      },
      "source": [
        "letters=[letter for letter in 'LetsUpgrade' ]\n",
        "print(letters)"
      ],
      "execution_count": null,
      "outputs": [
        {
          "output_type": "stream",
          "text": [
            "['L', 'e', 't', 's', 'U', 'p', 'g', 'r', 'a', 'd', 'e']\n"
          ],
          "name": "stdout"
        }
      ]
    },
    {
      "cell_type": "code",
      "metadata": {
        "id": "oOmIBaudOynf",
        "outputId": "a31276d4-03d2-476f-ba44-bba98e177798",
        "colab": {
          "base_uri": "https://localhost:8080/"
        }
      },
      "source": [
        "numlist=[a for a in range(100) if a%2==0 if a%5==0]\n",
        "print(numlist)"
      ],
      "execution_count": null,
      "outputs": [
        {
          "output_type": "stream",
          "text": [
            "[0, 10, 20, 30, 40, 50, 60, 70, 80, 90]\n"
          ],
          "name": "stdout"
        }
      ]
    },
    {
      "cell_type": "code",
      "metadata": {
        "id": "Z8H03MNyPjtN",
        "outputId": "decfdfd7-4eb4-47ab-cf7e-486ed8f58cf7",
        "colab": {
          "base_uri": "https://localhost:8080/"
        }
      },
      "source": [
        "number=[\"Even\" if x%2==0  else \"Odd\" for x in range(10)]\n",
        "print(number)"
      ],
      "execution_count": null,
      "outputs": [
        {
          "output_type": "stream",
          "text": [
            "['Even', 'Odd', 'Even', 'Odd', 'Even', 'Odd', 'Even', 'Odd', 'Even', 'Odd']\n"
          ],
          "name": "stdout"
        }
      ]
    },
    {
      "cell_type": "markdown",
      "metadata": {
        "id": "UkOX38waQepT"
      },
      "source": [
        "Q. 3"
      ]
    },
    {
      "cell_type": "code",
      "metadata": {
        "id": "GR9nDvtuQgDB",
        "outputId": "0696f528-9c96-42b3-8556-c4da320c7654",
        "colab": {
          "base_uri": "https://localhost:8080/"
        }
      },
      "source": [
        " \n",
        "d=dict()\n",
        "def dict1(n):\n",
        "    for i in range(1,n+1):\n",
        "        d[i]=i*i\n",
        "    print(d)\n",
        " \n",
        "dict1(int(input ()))\n",
        "print(\" \") \n",
        "dict1(int(input ()))"
      ],
      "execution_count": null,
      "outputs": [
        {
          "output_type": "stream",
          "text": [
            "4\n",
            "{1: 1, 2: 4, 3: 9, 4: 16}\n",
            " \n",
            "8\n",
            "{1: 1, 2: 4, 3: 9, 4: 16, 5: 25, 6: 36, 7: 49, 8: 64}\n"
          ],
          "name": "stdout"
        }
      ]
    },
    {
      "cell_type": "markdown",
      "metadata": {
        "id": "SdWepBrRURJa"
      },
      "source": [
        "Q. 4"
      ]
    },
    {
      "cell_type": "code",
      "metadata": {
        "id": "qx1TYVmOly5T",
        "outputId": "c4682309-ab18-451f-b4bd-6905f7414594",
        "colab": {
          "base_uri": "https://localhost:8080/",
          "height": 186
        }
      },
      "source": [
        "import math\n",
        "pos = [0,0]\n",
        "while True:\n",
        "    s = raw_input()\n",
        "    if not s:\n",
        "        break\n",
        "    movement = s.split(\" \")\n",
        "    direction = movement[0]\n",
        "    steps = int(movement[1])\n",
        "    if direction==\"UP\":\n",
        "        pos[0]+=steps\n",
        "    elif direction==\"DOWN\":\n",
        "        pos[0]-=steps\n",
        "    elif direction==\"LEFT\":\n",
        "        pos[1]-=steps\n",
        "    elif direction==\"RIGHT\":\n",
        "        pos[1]+=steps\n",
        "    else:\n",
        "        pass\n",
        " \n",
        "print (int(round(math.sqrt(pos[1]**2+pos[0]**2))) )"
      ],
      "execution_count": null,
      "outputs": [
        {
          "output_type": "error",
          "ename": "SyntaxError",
          "evalue": "ignored",
          "traceback": [
            "\u001b[0;36m  File \u001b[0;32m\"<ipython-input-3-c7d232f4c0bd>\"\u001b[0;36m, line \u001b[0;32m21\u001b[0m\n\u001b[0;31m    print int(round(math.sqrt(pos[1]**2+pos[0]**2)))\u001b[0m\n\u001b[0m            ^\u001b[0m\n\u001b[0;31mSyntaxError\u001b[0m\u001b[0;31m:\u001b[0m invalid syntax\n"
          ]
        }
      ]
    }
  ]
}